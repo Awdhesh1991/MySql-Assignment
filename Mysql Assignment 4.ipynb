{
 "cells": [
  {
   "cell_type": "markdown",
   "id": "3cd3b941-0a98-4417-bd41-0feaab2feb3e",
   "metadata": {},
   "source": [
    "# Q-1. Write an SQL query to print the FIRST_NAME from Worker table after replacing ‘a’ with ‘A’."
   ]
  },
  {
   "cell_type": "markdown",
   "id": "8987eb4e-89d4-4de0-9454-253c672962ab",
   "metadata": {},
   "source": [
    "SELECT REPLACE(FIRST_NAME, 'a', 'A') FROM Worker;"
   ]
  },
  {
   "cell_type": "markdown",
   "id": "db569a03-552e-43ad-8e9f-13c025f37e24",
   "metadata": {},
   "source": [
    "SELECT * FROM Worker ORDER BY FIRST_NAME ASC, DEPARTMENT DESC;"
   ]
  },
  {
   "cell_type": "markdown",
   "id": "36e2fcc3-e020-46f8-a84f-2cfa6ddabfca",
   "metadata": {},
   "source": [
    "ASC = Ascending \n",
    "DESC = Descending "
   ]
  },
  {
   "cell_type": "markdown",
   "id": "34495ca5-e3a0-4bef-829a-9649b55b4ae8",
   "metadata": {},
   "source": [
    "# Q-3. Write an SQL query to fetch the names of workers who earn the highest salary."
   ]
  },
  {
   "cell_type": "markdown",
   "id": "8b6e539c-f904-44da-82c3-20d85aa04f09",
   "metadata": {},
   "source": [
    "SELECT * FROM EmployeeInfo WHERE Salary = (SELECT MAX(Salary) FROM EmployeeInfo);"
   ]
  },
  {
   "cell_type": "markdown",
   "id": "1dc43929-3c9d-404a-8c4e-8081729d09a8",
   "metadata": {},
   "source": [
    "SELECT FIRST_NAME FROM Worker WHERE SALARY = (SELECT MAX(SALARY) FROM Worker);"
   ]
  }
 ],
 "metadata": {
  "kernelspec": {
   "display_name": "Python 3 (ipykernel)",
   "language": "python",
   "name": "python3"
  },
  "language_info": {
   "codemirror_mode": {
    "name": "ipython",
    "version": 3
   },
   "file_extension": ".py",
   "mimetype": "text/x-python",
   "name": "python",
   "nbconvert_exporter": "python",
   "pygments_lexer": "ipython3",
   "version": "3.11.7"
  }
 },
 "nbformat": 4,
 "nbformat_minor": 5
}
