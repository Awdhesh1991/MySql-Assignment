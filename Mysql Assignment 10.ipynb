{
 "cells": [
  {
   "cell_type": "markdown",
   "id": "1d76b02f-7187-48c7-aa80-74a6350015fa",
   "metadata": {},
   "source": [
    "# Q-1. Write an SQL query to determine the 5th highest salary without using TOP or limit method."
   ]
  },
  {
   "cell_type": "markdown",
   "id": "f2eac4ec-ba49-48df-b41f-af19d8d0a545",
   "metadata": {},
   "source": [
    "SELECT DISTINCT Salary\n",
    "FROM Employees AS Emp1\n",
    "WHERE 5 = (\n",
    "    SELECT COUNT(DISTINCT Salary)\n",
    "    FROM Employees AS Emp2\n",
    "    WHERE Emp2.Salary >= Emp1.Salary\n",
    ");"
   ]
  },
  {
   "cell_type": "markdown",
   "id": "0f331a03-ca13-4df4-b4f2-d949a65949b7",
   "metadata": {},
   "source": [
    "# Q-2. Write an SQL query to fetch the list of employees with the same salary."
   ]
  },
  {
   "cell_type": "markdown",
   "id": "ffb1741a-0e4a-4bad-925f-b30574502596",
   "metadata": {},
   "source": [
    "SELECT e1.EmployeeID, e1.FirstName, e1.LastName, e1.Salary\n",
    "FROM Employees e1\n",
    "JOIN Employees e2 ON e1.Salary = e2.Salary\n",
    "WHERE e1.EmployeeID <> e2.EmployeeID\n",
    "ORDER BY e1.Salary;"
   ]
  }
 ],
 "metadata": {
  "kernelspec": {
   "display_name": "Python 3 (ipykernel)",
   "language": "python",
   "name": "python3"
  },
  "language_info": {
   "codemirror_mode": {
    "name": "ipython",
    "version": 3
   },
   "file_extension": ".py",
   "mimetype": "text/x-python",
   "name": "python",
   "nbconvert_exporter": "python",
   "pygments_lexer": "ipython3",
   "version": "3.11.7"
  }
 },
 "nbformat": 4,
 "nbformat_minor": 5
}
