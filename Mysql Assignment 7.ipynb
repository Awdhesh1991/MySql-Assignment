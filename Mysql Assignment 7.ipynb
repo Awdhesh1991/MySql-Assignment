{
 "cells": [
  {
   "cell_type": "markdown",
   "id": "8c123ecc-fe7f-4a45-8ece-93f70629a1eb",
   "metadata": {},
   "source": [
    "# Q-1. Write an SQL query to show only odd rows from a table."
   ]
  },
  {
   "cell_type": "markdown",
   "id": "f4cea9e3-ff9c-46c4-83f6-07662a5c0267",
   "metadata": {},
   "source": [
    "select * from table_name \n",
    "WHERE MOD(ID,2) <>0; "
   ]
  },
  {
   "cell_type": "markdown",
   "id": "013661e2-12af-4246-8322-4ed495511e96",
   "metadata": {},
   "source": [
    "# Q-2. Write an SQL query to clone a new table from another table."
   ]
  },
  {
   "cell_type": "markdown",
   "id": "e8a99e65-0b2d-46da-9a03-4f4a2f63afa5",
   "metadata": {},
   "source": [
    "CREATE TABLE Employees_Copy AS\n",
    "SELECT * FROM Employees;"
   ]
  },
  {
   "cell_type": "markdown",
   "id": "0170d30b-0cd8-4ec2-b93d-13ed2b05a452",
   "metadata": {},
   "source": []
  }
 ],
 "metadata": {
  "kernelspec": {
   "display_name": "Python 3 (ipykernel)",
   "language": "python",
   "name": "python3"
  },
  "language_info": {
   "codemirror_mode": {
    "name": "ipython",
    "version": 3
   },
   "file_extension": ".py",
   "mimetype": "text/x-python",
   "name": "python",
   "nbconvert_exporter": "python",
   "pygments_lexer": "ipython3",
   "version": "3.11.7"
  }
 },
 "nbformat": 4,
 "nbformat_minor": 5
}
