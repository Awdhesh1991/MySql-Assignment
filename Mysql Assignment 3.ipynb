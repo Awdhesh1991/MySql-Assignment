{
 "cells": [
  {
   "cell_type": "markdown",
   "id": "7adcc216-d710-46e6-9f56-af126a9e1485",
   "metadata": {},
   "source": [
    "# Q-1. Write an SQL query to print the FIRST_NAME from Worker table after removing white spaces from the right side."
   ]
  },
  {
   "cell_type": "markdown",
   "id": "e6bb2add-0dc3-4a4d-8418-026fca2c9f6a",
   "metadata": {},
   "source": [
    "Select RTRIM(FIRST_NAME) from Worker;"
   ]
  },
  {
   "cell_type": "markdown",
   "id": "5fbe7f9c-9063-4156-9252-2ff849eca4ad",
   "metadata": {},
   "source": [
    "# Q-2. Write an SQL query that fetches the unique values of DEPARTMENT from Worker table and prints its length."
   ]
  },
  {
   "cell_type": "markdown",
   "id": "923cddf2-cab0-4e99-8d8c-71bf1ddba0cb",
   "metadata": {},
   "source": [
    "SELECT DISTINCT(DEPARTMENT), LENGTH(DEPARTMENT) FROM Worker;"
   ]
  },
  {
   "cell_type": "markdown",
   "id": "86e31d42-5ac4-4b21-aa04-0367c6edd935",
   "metadata": {},
   "source": [
    "select length(distinct(department)) from worker;"
   ]
  },
  {
   "cell_type": "markdown",
   "id": "9bcb82db-ef16-4c71-bff2-2372a8fbff17",
   "metadata": {},
   "source": [
    "# Q-3. Write an SQL query to fetch nth max salaries from a table."
   ]
  },
  {
   "cell_type": "markdown",
   "id": "5fe7b467-79df-4b85-8383-b2c7f588eb07",
   "metadata": {},
   "source": [
    "SELECT emp_name AS Employee, salary AS Salary FROM employee ORDER BY salary DESC LIMIT 2,1;"
   ]
  },
  {
   "cell_type": "markdown",
   "id": "db394b1b-58dd-4588-a6a2-c9fbd5ad10c1",
   "metadata": {},
   "source": [
    "SELECT DISTINCT SALARY FROM Worker ORDER BY SALARY DESC LIMIT n-1, 1;"
   ]
  }
 ],
 "metadata": {
  "kernelspec": {
   "display_name": "Python 3 (ipykernel)",
   "language": "python",
   "name": "python3"
  },
  "language_info": {
   "codemirror_mode": {
    "name": "ipython",
    "version": 3
   },
   "file_extension": ".py",
   "mimetype": "text/x-python",
   "name": "python",
   "nbconvert_exporter": "python",
   "pygments_lexer": "ipython3",
   "version": "3.11.7"
  }
 },
 "nbformat": 4,
 "nbformat_minor": 5
}
