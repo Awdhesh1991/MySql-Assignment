{
 "cells": [
  {
   "cell_type": "markdown",
   "id": "5409543a-25a1-4568-a8e9-1ab7acbd43a9",
   "metadata": {},
   "source": [
    "# Q-1. Write an SQL query to print the first three characters of  FIRST_NAME from Worker table."
   ]
  },
  {
   "cell_type": "markdown",
   "id": "45333550-951a-438b-88dc-7a4758fdce32",
   "metadata": {},
   "source": [
    "SELECT SUBSTRING(FIRST_NAME, 1, 3) FROM Worker;"
   ]
  },
  {
   "cell_type": "markdown",
   "id": "675197e5-493c-483d-9f01-4ed327a0ce14",
   "metadata": {},
   "source": [
    "#  Q-2. Write an SQL query to find the position of the alphabet (‘a’) in the first name column ‘Amitabh’ from Worker table."
   ]
  },
  {
   "cell_type": "markdown",
   "id": "e6cac798-e55d-4c77-b9c5-a68b49e8ef4d",
   "metadata": {},
   "source": [
    "SELECT LOCATE('a', FIRST_NAME) AS POSITION\n",
    "FROM Worker\n",
    "WHERE FIRST_NAME = 'Amitabh';"
   ]
  },
  {
   "cell_type": "markdown",
   "id": "145e9d1c-0528-459a-922e-67487b44f2a4",
   "metadata": {},
   "source": [
    "# Q-3. Write an SQL query to print the name of employees having the highest salary in each department."
   ]
  },
  {
   "cell_type": "markdown",
   "id": "6ff1e58b-f3b3-4ad1-be12-db49e608db4e",
   "metadata": {},
   "source": [
    "SELECT DEPT_ID, MAX(SALARY) FROM department GROUP BY DEPT_ID;"
   ]
  }
 ],
 "metadata": {
  "kernelspec": {
   "display_name": "Python 3 (ipykernel)",
   "language": "python",
   "name": "python3"
  },
  "language_info": {
   "codemirror_mode": {
    "name": "ipython",
    "version": 3
   },
   "file_extension": ".py",
   "mimetype": "text/x-python",
   "name": "python",
   "nbconvert_exporter": "python",
   "pygments_lexer": "ipython3",
   "version": "3.11.7"
  }
 },
 "nbformat": 4,
 "nbformat_minor": 5
}
