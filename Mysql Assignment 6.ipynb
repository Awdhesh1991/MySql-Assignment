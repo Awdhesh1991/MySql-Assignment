{
 "cells": [
  {
   "cell_type": "markdown",
   "id": "8d4e7011-0739-41df-961c-645a536321ce",
   "metadata": {},
   "source": [
    "# Q-1. Write an SQL query to print details of the Workers who have joined in Feb’2014."
   ]
  },
  {
   "cell_type": "markdown",
   "id": "58b62f50-6a8d-4a7c-a660-aa6bb16b4846",
   "metadata": {},
   "source": [
    "SELECT *\n",
    "FROM Worker\n",
    "WHERE JOIN_DATE >= '2014-02-01' AND JOIN_DATE <= '2014-02-28';"
   ]
  },
  {
   "cell_type": "markdown",
   "id": "75f0893b-328d-43d9-aabc-4d85389093d8",
   "metadata": {},
   "source": [
    "Select * from Worker where year(JOINING_DATE) = 2014 and month(JOINING_DATE) = 2;"
   ]
  },
  {
   "cell_type": "markdown",
   "id": "8d446f76-d795-49fa-b9f3-1d71a0162d3a",
   "metadata": {},
   "source": [
    "# Q-2. Write an SQL query to fetch duplicate records having matching data in some fields of a table."
   ]
  },
  {
   "cell_type": "markdown",
   "id": "6d434849-8579-47e6-b1d4-4a3df15a7648",
   "metadata": {},
   "source": [
    "SELECT FIRST_NAME, LAST_NAME, COUNT(*)\n",
    "FROM Worker\n",
    "GROUP BY FIRST_NAME, LAST_NAME\n",
    "HAVING COUNT(*) > 1;"
   ]
  },
  {
   "cell_type": "markdown",
   "id": "9333cc2b-14ac-4ac8-993d-99ce8666d559",
   "metadata": {},
   "source": [
    "# Q-3. How to remove duplicate rows from Employees table."
   ]
  },
  {
   "cell_type": "markdown",
   "id": "59809aa0-72c9-4505-a92d-cb8a436754d2",
   "metadata": {},
   "source": [
    "DELETE FROM Employees\n",
    "WHERE (FIRST_NAME, LAST_NAME) NOT IN (\n",
    "    SELECT MIN(FIRST_NAME), MIN(LAST_NAME)\n",
    "    FROM Employees\n",
    "    GROUP BY FIRST_NAME, LAST_NAME\n",
    ");"
   ]
  }
 ],
 "metadata": {
  "kernelspec": {
   "display_name": "Python 3 (ipykernel)",
   "language": "python",
   "name": "python3"
  },
  "language_info": {
   "codemirror_mode": {
    "name": "ipython",
    "version": 3
   },
   "file_extension": ".py",
   "mimetype": "text/x-python",
   "name": "python",
   "nbconvert_exporter": "python",
   "pygments_lexer": "ipython3",
   "version": "3.11.7"
  }
 },
 "nbformat": 4,
 "nbformat_minor": 5
}
