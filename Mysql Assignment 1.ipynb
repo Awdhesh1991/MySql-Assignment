{
 "cells": [
  {
   "cell_type": "markdown",
   "id": "d6b67c85-c4b0-4cc2-8d1e-e3f87da7fd87",
   "metadata": {},
   "source": [
    "# Q-1. Write an SQL query to fetch “FIRST_NAME” from Worker table using the alias name as <WORKER_NAME>."
   ]
  },
  {
   "cell_type": "markdown",
   "id": "758aa21a-af8e-46ff-9aa8-e1c7949d6cc4",
   "metadata": {},
   "source": [
    "SELECT FIRST_NAME AS WORKER_NAME FROM Worker;"
   ]
  },
  {
   "cell_type": "markdown",
   "id": "b560dd87-e160-4063-8306-12312486abb4",
   "metadata": {},
   "source": [
    "# Q-2. Write an SQL query to fetch unique values of DEPARTMENT from Worker table."
   ]
  },
  {
   "cell_type": "markdown",
   "id": "ea8c8602-abab-40fc-abea-95cc956e74e2",
   "metadata": {},
   "source": [
    "SELECT DISTINCT DEPARTMENT FROM Worker;"
   ]
  },
  {
   "cell_type": "markdown",
   "id": "6cc86998-42d0-4ef2-b827-61fa295ccc67",
   "metadata": {},
   "source": [
    "# Q-3. Write an SQL query to show the last 5 record from a table."
   ]
  },
  {
   "cell_type": "markdown",
   "id": "b07ef0a2-e632-4608-b74f-9d0fc405d206",
   "metadata": {},
   "source": [
    "SELECT * FROM Worker ORDER BY ID DESC LIMIT 5;"
   ]
  }
 ],
 "metadata": {
  "kernelspec": {
   "display_name": "Python 3 (ipykernel)",
   "language": "python",
   "name": "python3"
  },
  "language_info": {
   "codemirror_mode": {
    "name": "ipython",
    "version": 3
   },
   "file_extension": ".py",
   "mimetype": "text/x-python",
   "name": "python",
   "nbconvert_exporter": "python",
   "pygments_lexer": "ipython3",
   "version": "3.11.7"
  }
 },
 "nbformat": 4,
 "nbformat_minor": 5
}
