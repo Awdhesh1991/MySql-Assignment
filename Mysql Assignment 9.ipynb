{
 "cells": [
  {
   "cell_type": "markdown",
   "id": "d5d355d8-357d-48b7-b65f-0265748b9012",
   "metadata": {},
   "source": [
    "# Q-1.  Write an SQL query to show the top n (say 10) records of a table."
   ]
  },
  {
   "cell_type": "markdown",
   "id": "167bc1b7-d331-41a4-a6a2-70a9eab94cb8",
   "metadata": {},
   "source": [
    "SELECT *\n",
    "FROM Employees\n",
    "LIMIT 10;"
   ]
  },
  {
   "cell_type": "markdown",
   "id": "8fe96bc3-8d57-412c-bb97-e7d50b89799e",
   "metadata": {},
   "source": [
    "# Q-2. Write an SQL query to determine the nth (say n=5) highest salary from a table."
   ]
  },
  {
   "cell_type": "markdown",
   "id": "77f51253-8829-48a2-84b3-33b64c7d88af",
   "metadata": {},
   "source": [
    "SELECT DISTINCT salary\r\n",
    "FROM Employee\r\n",
    "ORDER BY saryal DESC\r\n",
    "LIMIT 4;"
   ]
  },
  {
   "cell_type": "markdown",
   "id": "6e48fead-9595-456a-9655-317ddabc709d",
   "metadata": {},
   "source": [
    "SELECT DISTINCT Salary\n",
    "FROM Employees\n",
    "ORDER BY Salary DESC\n",
    "LIMIT 1 OFFSET 4;"
   ]
  }
 ],
 "metadata": {
  "kernelspec": {
   "display_name": "Python 3 (ipykernel)",
   "language": "python",
   "name": "python3"
  },
  "language_info": {
   "codemirror_mode": {
    "name": "ipython",
    "version": 3
   },
   "file_extension": ".py",
   "mimetype": "text/x-python",
   "name": "python",
   "nbconvert_exporter": "python",
   "pygments_lexer": "ipython3",
   "version": "3.11.7"
  }
 },
 "nbformat": 4,
 "nbformat_minor": 5
}
