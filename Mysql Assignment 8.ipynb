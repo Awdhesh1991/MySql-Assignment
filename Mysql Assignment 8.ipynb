{
 "cells": [
  {
   "cell_type": "markdown",
   "id": "72ee39c8-0579-44ea-9e95-cecefc698fc4",
   "metadata": {},
   "source": [
    "# Q-15. Write an SQL query to fetch intersecting records of two tables."
   ]
  },
  {
   "cell_type": "markdown",
   "id": "44f41d8b-d186-4d11-9970-b10bb1de298e",
   "metadata": {},
   "source": [
    "SELECT * FROM Table1\n",
    "INNER JOIN Table2 ON Table1.CommonColumn = Table2.CommonColumn;"
   ]
  },
  {
   "cell_type": "markdown",
   "id": "98b2d814-4008-4fd0-bab5-158a58662b4b",
   "metadata": {},
   "source": [
    "# Q-16. Write an SQL query to show records from one table that another table does not have."
   ]
  },
  {
   "cell_type": "markdown",
   "id": "2512b6a1-bb5b-4880-a8af-7dded87636fa",
   "metadata": {},
   "source": [
    "SELECT Table1.*\n",
    "FROM Table1\n",
    "LEFT JOIN Table2 ON Table1.CommonColumn = Table2.CommonColumn\n",
    "WHERE Table2.CommonColumn IS NULL;"
   ]
  },
  {
   "cell_type": "markdown",
   "id": "6ccdd3ee-52e5-44b6-81d3-7dd8d0eb21cd",
   "metadata": {},
   "source": [
    "SELECT *\n",
    "FROM Table1\n",
    "WHERE NOT EXISTS (\n",
    "    SELECT 1\n",
    "    FROM Table2\n",
    "    WHERE Table2.CommonColumn = Table1.CommonColumn\n",
    ");"
   ]
  }
 ],
 "metadata": {
  "kernelspec": {
   "display_name": "Python 3 (ipykernel)",
   "language": "python",
   "name": "python3"
  },
  "language_info": {
   "codemirror_mode": {
    "name": "ipython",
    "version": 3
   },
   "file_extension": ".py",
   "mimetype": "text/x-python",
   "name": "python",
   "nbconvert_exporter": "python",
   "pygments_lexer": "ipython3",
   "version": "3.11.7"
  }
 },
 "nbformat": 4,
 "nbformat_minor": 5
}
