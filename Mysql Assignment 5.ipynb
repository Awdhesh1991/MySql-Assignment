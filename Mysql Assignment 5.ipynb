{
 "cells": [
  {
   "cell_type": "markdown",
   "id": "8a1fd2ec-3f38-4b22-b8d7-997c3cfa5806",
   "metadata": {},
   "source": [
    "# Q-1. Write an SQL query to print details of workers excluding first names, “Vipul” and “Satish” from Worker table."
   ]
  },
  {
   "cell_type": "markdown",
   "id": "5ae197dc-8b77-491d-894c-af691d7c5cf8",
   "metadata": {},
   "source": [
    "SELECT * FROM Worker WHERE FIRST_NAME NOT IN ('Vipul', 'Satish');"
   ]
  },
  {
   "cell_type": "markdown",
   "id": "8fbb0865-0248-4b29-a13e-0a7c018f4b4b",
   "metadata": {},
   "source": [
    "# Q-2. Write an SQL query to print details of the Workers whose FIRST_NAME ends with ‘h’ and contains six alphabets."
   ]
  },
  {
   "cell_type": "markdown",
   "id": "600c8430-f108-4468-8a52-c8bd8ccb1164",
   "metadata": {},
   "source": [
    "SELECT * FROM Worker WHERE FIRST_NAME LIKE '_____h';"
   ]
  },
  {
   "cell_type": "markdown",
   "id": "558ff7fd-5f21-4826-8627-ff28c7434c58",
   "metadata": {},
   "source": [
    "SELECT *\n",
    "FROM Worker\n",
    "WHERE \n",
    "  LENGTH(FIRST_NAME) = 6 AND\n",
    "  FIRST_NAME LIKE '%h'"
   ]
  },
  {
   "cell_type": "markdown",
   "id": "b04c03fc-16fb-4756-b08b-b20ec26d58ba",
   "metadata": {},
   "source": [
    "# Q-3. Write a query to validate Email of Employee."
   ]
  },
  {
   "cell_type": "markdown",
   "id": "92aa73d5-34e5-44c8-9e32-f415dfbd3454",
   "metadata": {},
   "source": [
    "CREATE DATABASE college;\n",
    "USE college;\n"
   ]
  },
  {
   "cell_type": "markdown",
   "id": "57f3aa4d-92a6-4009-b5dd-63f80fc468b4",
   "metadata": {},
   "source": [
    "CREATE TABLE student\n",
    "(\n",
    "    s_id varchar(20),\n",
    "    s_name varchar(20),\n",
    "    s_branch varchar(20),\n",
    "    s_email varchar(100)\n",
    ");\n"
   ]
  },
  {
   "cell_type": "markdown",
   "id": "3133256a-a8a6-4fa8-bfb0-357fcd1d59af",
   "metadata": {},
   "source": [
    "INSERT INTO student VALUES\n",
    "('19102001','JOHNSON','E.C.E','john432@gmail.com'),\n",
    "('19102002','VIVEK','E.C.E','VIVEK2252gmail.com'),\n",
    "('19102003','DINESH','E.C.E','dineshg@gmail.com'),\n",
    "('19102004','HARSHA','E.C.E','hARsha302@gmail.com'),\n",
    "('19102005','DAVID','E.C.E','david2000@gmail.com'),\n",
    "('19102006','NAVIN','E.C.E','navin00'),\n",
    "('19102007','VINAY','E.C.E','Vinay24mail.com');"
   ]
  },
  {
   "cell_type": "markdown",
   "id": "253a75e6-3f56-4428-91da-0b7c17a596e6",
   "metadata": {},
   "source": [
    "SELECT * FROM student;\n"
   ]
  },
  {
   "cell_type": "markdown",
   "id": "d53d5af8-e094-4f01-8a42-13e2977c64b4",
   "metadata": {},
   "source": [
    "SELECT * FROM student\n",
    "WHERE s_email LIKE '%@gmail.com';\n"
   ]
  },
  {
   "cell_type": "code",
   "execution_count": null,
   "id": "ef714009-52df-4f5c-9f6f-dd35083ccc07",
   "metadata": {},
   "outputs": [],
   "source": []
  }
 ],
 "metadata": {
  "kernelspec": {
   "display_name": "Python 3 (ipykernel)",
   "language": "python",
   "name": "python3"
  },
  "language_info": {
   "codemirror_mode": {
    "name": "ipython",
    "version": 3
   },
   "file_extension": ".py",
   "mimetype": "text/x-python",
   "name": "python",
   "nbconvert_exporter": "python",
   "pygments_lexer": "ipython3",
   "version": "3.11.7"
  }
 },
 "nbformat": 4,
 "nbformat_minor": 5
}
